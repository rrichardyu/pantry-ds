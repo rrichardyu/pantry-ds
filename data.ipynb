{
 "cells": [
  {
   "cell_type": "code",
   "execution_count": 3,
   "metadata": {},
   "outputs": [],
   "source": [
    "from datascience import *\n",
    "from google.auth.transport.requests import Request\n",
    "from google.oauth2.credentials import Credentials\n",
    "from google_auth_oauthlib.flow import InstalledAppFlow\n",
    "from googleapiclient.discovery import build\n",
    "from googleapiclient.errors import HttpError\n",
    "import os"
   ]
  },
  {
   "cell_type": "code",
   "execution_count": 4,
   "metadata": {},
   "outputs": [],
   "source": [
    "# If modifying these scopes, delete the file token.json.\n",
    "SCOPES = ['https://www.googleapis.com/auth/spreadsheets.readonly']\n",
    "\n",
    "# The ID and range of a sample spreadsheet.\n",
    "SPREADSHEET_ID = '1waiCSO7hm8kmWLaG8OdB8_7ksfEbm_B3CyKHbXTIf5E'\n",
    "RANGE_NAME = 'AY 22-23!A2:F'\n",
    "dateColumn = []\n",
    "timeColumn = []\n",
    "itemBarcodeColumn = []\n",
    "quantityColumn = []\n",
    "itemNameColumn = []\n",
    "remainingColumn = []\n",
    "def getSheetInfo():\n",
    "    creds = None\n",
    "    # The file token.json stores the user's access and refresh tokens, and is\n",
    "    # created automatically when the authorization flow completes for the first\n",
    "    # time.\n",
    "    if os.path.exists('token.json'):\n",
    "        creds = Credentials.from_authorized_user_file('token.json', SCOPES)\n",
    "    # If there are no (valid) credentials available, let the user log in.\n",
    "    if not creds or not creds.valid:\n",
    "        if creds and creds.expired and creds.refresh_token:\n",
    "            creds.refresh(Request())\n",
    "        else:\n",
    "            flow = InstalledAppFlow.from_client_secrets_file(\n",
    "                'credentials.json', SCOPES)\n",
    "            creds = flow.run_local_server(port=0)\n",
    "        # Save the credentials for the next run\n",
    "        with open('token.json', 'w') as token:\n",
    "            token.write(creds.to_json())\n",
    "\n",
    "    try:\n",
    "        service = build('sheets', 'v4', credentials=creds)\n",
    "\n",
    "        # Call the Sheets API\n",
    "        sheet = service.spreadsheets()\n",
    "        result = sheet.values().get(spreadsheetId=SPREADSHEET_ID,\n",
    "                                    range=RANGE_NAME).execute()\n",
    "        values = result.get('values', [])\n",
    "\n",
    "        if not values:\n",
    "            print('No data found.')\n",
    "            return\n",
    "        for row in values:\n",
    "            dateColumn.append(row[0])\n",
    "            timeColumn.append(row[1])\n",
    "            itemBarcodeColumn.append(row[2])\n",
    "            quantityColumn.append(int(row[3]))\n",
    "            itemNameColumn.append(row[4])\n",
    "            remainingColumn.append(int(row[5]))\n",
    "    except HttpError as err:\n",
    "        print(err)\n",
    "\n",
    "getSheetInfo()"
   ]
  },
  {
   "cell_type": "code",
   "execution_count": 5,
   "metadata": {},
   "outputs": [
    {
     "data": {
      "text/html": [
       "<table border=\"1\" class=\"dataframe\">\n",
       "    <thead>\n",
       "        <tr>\n",
       "            <th>Date</th> <th>Time</th> <th>Item Barcode</th> <th>Quantity</th> <th>Item Name</th> <th>Remaining #</th>\n",
       "        </tr>\n",
       "    </thead>\n",
       "    <tbody>\n",
       "        <tr>\n",
       "            <td>8/18/2022 12:15:55</td> <td>12:15</td> <td>027862020120</td> <td>9       </td> <td>Firm Tofu                               </td> <td>0          </td>\n",
       "        </tr>\n",
       "        <tr>\n",
       "            <td>8/18/2022 12:16:52</td> <td>12:16</td> <td>027862020168</td> <td>10      </td> <td>Soft Tofu                               </td> <td>0          </td>\n",
       "        </tr>\n",
       "        <tr>\n",
       "            <td>8/18/2022 12:17:13</td> <td>12:17</td> <td>029243050351</td> <td>1       </td> <td>Macaroni                                </td> <td>0          </td>\n",
       "        </tr>\n",
       "        <tr>\n",
       "            <td>8/22/2022 15:57:00</td> <td>15:57</td> <td>024182025064</td> <td>1       </td> <td>Edensoy Soy Milk                        </td> <td>47         </td>\n",
       "        </tr>\n",
       "        <tr>\n",
       "            <td>                  </td> <td>     </td> <td>apple       </td> <td>1       </td> <td>Apple                                   </td> <td>-1         </td>\n",
       "        </tr>\n",
       "        <tr>\n",
       "            <td>9/8/2022 10:01:45 </td> <td>10:01</td> <td>754686002437</td> <td>1       </td> <td>Almond Original, Unsweetened Almond Milk</td> <td>35         </td>\n",
       "        </tr>\n",
       "        <tr>\n",
       "            <td>                  </td> <td>     </td> <td>027000500064</td> <td>1       </td> <td>Hunt's Pasta Sauce                      </td> <td>154        </td>\n",
       "        </tr>\n",
       "        <tr>\n",
       "            <td>                  </td> <td>     </td> <td>apple juice </td> <td>1       </td> <td>Totally Juice, 100% Apple Juice         </td> <td>33         </td>\n",
       "        </tr>\n",
       "        <tr>\n",
       "            <td>                  </td> <td>     </td> <td>035200056427</td> <td>1       </td> <td>Brown Rice                              </td> <td>177        </td>\n",
       "        </tr>\n",
       "        <tr>\n",
       "            <td>9/8/2022 10:02:27 </td> <td>10:02</td> <td>apple juice </td> <td>1       </td> <td>Totally Juice, 100% Apple Juice         </td> <td>32         </td>\n",
       "        </tr>\n",
       "    </tbody>\n",
       "</table>\n",
       "<p>... (285648 rows omitted)</p>"
      ],
      "text/plain": [
       "Date               | Time  | Item Barcode | Quantity | Item Name                                | Remaining #\n",
       "8/18/2022 12:15:55 | 12:15 | 027862020120 | 9        | Firm Tofu                                | 0\n",
       "8/18/2022 12:16:52 | 12:16 | 027862020168 | 10       | Soft Tofu                                | 0\n",
       "8/18/2022 12:17:13 | 12:17 | 029243050351 | 1        | Macaroni                                 | 0\n",
       "8/22/2022 15:57:00 | 15:57 | 024182025064 | 1        | Edensoy Soy Milk                         | 47\n",
       "                   |       | apple        | 1        | Apple                                    | -1\n",
       "9/8/2022 10:01:45  | 10:01 | 754686002437 | 1        | Almond Original, Unsweetened Almond Milk | 35\n",
       "                   |       | 027000500064 | 1        | Hunt's Pasta Sauce                       | 154\n",
       "                   |       | apple juice  | 1        | Totally Juice, 100% Apple Juice          | 33\n",
       "                   |       | 035200056427 | 1        | Brown Rice                               | 177\n",
       "9/8/2022 10:02:27  | 10:02 | apple juice  | 1        | Totally Juice, 100% Apple Juice          | 32\n",
       "... (285648 rows omitted)"
      ]
     },
     "execution_count": 5,
     "metadata": {},
     "output_type": "execute_result"
    }
   ],
   "source": [
    "checkout = Table().with_columns(\"Date\", dateColumn,\"Time\", timeColumn, \"Item Barcode\", itemBarcodeColumn, \"Quantity\", quantityColumn, \"Item Name\", itemNameColumn, \"Remaining #\", remainingColumn)\n",
    "checkout"
   ]
  }
 ],
 "metadata": {
  "kernelspec": {
   "display_name": "venv",
   "language": "python",
   "name": "python3"
  },
  "language_info": {
   "codemirror_mode": {
    "name": "ipython",
    "version": 3
   },
   "file_extension": ".py",
   "mimetype": "text/x-python",
   "name": "python",
   "nbconvert_exporter": "python",
   "pygments_lexer": "ipython3",
   "version": "3.11.6"
  }
 },
 "nbformat": 4,
 "nbformat_minor": 2
}
